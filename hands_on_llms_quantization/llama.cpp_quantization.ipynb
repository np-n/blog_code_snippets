{
 "cells": [
  {
   "cell_type": "markdown",
   "id": "395fd148-7b90-4609-b533-f21ef8283281",
   "metadata": {},
   "source": [
    "### Clone & Build `llama.cpp` from source"
   ]
  },
  {
   "cell_type": "code",
   "execution_count": null,
   "id": "1874b158-8237-4946-8626-88a7d6e3035f",
   "metadata": {},
   "outputs": [],
   "source": [
    "#clone llama.cpp\n",
    "!git clone https://github.com/ggerganov/llama.cpp"
   ]
  },
  {
   "cell_type": "code",
   "execution_count": null,
   "id": "b82728a2-aba6-476f-9d18-cea63ba64b93",
   "metadata": {},
   "outputs": [],
   "source": [
    "# build llama.cpp \n",
    "!mkdir llama.cpp/build && cd llama.cpp/build && cmake .. && cmake --build . --config Release"
   ]
  },
  {
   "cell_type": "code",
   "execution_count": null,
   "id": "2cd0fdb4-54a6-4ec2-9ada-02a21f71964c",
   "metadata": {},
   "outputs": [],
   "source": [
    "# See about the quantization techniques\n",
    "!./llama.cpp/build/bin/llama-quantize --help"
   ]
  },
  {
   "cell_type": "markdown",
   "id": "fa26a482-48e6-4eaa-b6d3-064868d917e6",
   "metadata": {},
   "source": [
    "### Download `LLM` from huggingface hub "
   ]
  },
  {
   "cell_type": "code",
   "execution_count": null,
   "id": "f0df7f3a-fda9-4880-9440-5a4764024a71",
   "metadata": {},
   "outputs": [],
   "source": [
    "from dotenv import load_dotenv\n",
    "from huggingface_hub import snapshot_download\n",
    "from pathlib import Path\n",
    "\n",
    "load_dotenv()\n",
    "\n",
    "access_token = os.getenv(\"HUGGINGFACEHUB_API_TOKEN\")\n",
    "\n",
    "dest_mistral_models_path = Path.home().joinpath('mistral_models', 'Mistral-7B-Instruct-v0.3')\n",
    "dest_mistral_models_path.mkdir(parents=True, exist_ok=True)\n",
    "\n",
    "# snapshot_download(repo_id=\"mistralai/Ministral-8B-Instruct-2410\", repo_type=\"model\", local_dir=mistral_models_path, token=access_token) # mistralai/Mistral-7B-Instruct-v0.2\n",
    "snapshot_download(repo_id=\"mistralai/Mistral-7B-Instruct-v0.3\", repo_type=\"model\", local_dir=dest_mistral_models_path, token=access_token) "
   ]
  },
  {
   "cell_type": "markdown",
   "id": "ef9327f4-d1da-499c-a6bf-cc5e8a69052a",
   "metadata": {},
   "source": [
    "### Quantization to `FP16`"
   ]
  },
  {
   "cell_type": "code",
   "execution_count": null,
   "id": "9edb3f6e-654c-4bcd-a412-69aa5a0dbc49",
   "metadata": {},
   "outputs": [],
   "source": [
    "!python llama.cpp/convert_hf_to_gguf.py ./mistral_models/Mistral-7B-Instruct-v0.3/ --outtype f16 --outfile ./mistral_models/quantized_models/Mistral-7B-Instruct-v0.3-f16.gguf"
   ]
  },
  {
   "cell_type": "markdown",
   "id": "efcabf85-b04f-47ca-898d-f1c6c7bbe88f",
   "metadata": {},
   "source": [
    "### 2-bit quantization"
   ]
  },
  {
   "cell_type": "code",
   "execution_count": null,
   "id": "379c42b0-d1fa-405c-9c61-cc8d71b450b7",
   "metadata": {},
   "outputs": [],
   "source": [
    "!cd llama.cpp/build/bin && ./llama-quantize ../../../mistral_models/quantized_models/Mistral-7B-Instruct-v0.3-f16.gguf ../../../mistral_models/quantized_models/Mistral-7B-Instruct-v0.3-f16_Q2_K.gguf Q2_K"
   ]
  },
  {
   "cell_type": "markdown",
   "id": "c4f8aa1d-c070-486e-a365-028c54142b49",
   "metadata": {},
   "source": [
    "### 4-bit quantization"
   ]
  },
  {
   "cell_type": "code",
   "execution_count": null,
   "id": "d03e3faf-f897-48f7-9488-cd37c09e1039",
   "metadata": {},
   "outputs": [],
   "source": [
    "!cd llama.cpp/build/bin && ./llama-quantize ../../../mistral_models/quantized_models/Mistral-7B-Instruct-v0.3-f16.gguf ../../../mistral_models/quantized_models/Mistral-7B-Instruct-v0.3-f16_Q4_K_M.gguf Q4_K_M"
   ]
  },
  {
   "cell_type": "code",
   "execution_count": null,
   "id": "e8b80783-fddd-4789-a7c6-84870641e335",
   "metadata": {},
   "outputs": [],
   "source": []
  },
  {
   "cell_type": "markdown",
   "id": "cc919313-d4e0-4934-9a4f-89298c932ece",
   "metadata": {},
   "source": [
    "### Evaluation of quantized model"
   ]
  },
  {
   "cell_type": "markdown",
   "id": "be936971-122e-4097-a622-7869b586fbc3",
   "metadata": {},
   "source": [
    "- #### Batched-bench"
   ]
  },
  {
   "cell_type": "code",
   "execution_count": null,
   "id": "0bc904c4-ed5f-4f7d-a9f7-1353efc8041c",
   "metadata": {},
   "outputs": [],
   "source": [
    "!cd llama.cpp/build/bin && ./llama-batched-bench -m ../../../mistral_models/quantized_models/Mistral-7B-Instruct-v0.3-f16.gguf -c 16384 -b 2048 -ub 512 -ngl 99 -ntg 128,256 -npl 1,2,4,8,16,32"
   ]
  },
  {
   "cell_type": "markdown",
   "id": "c2d0485f-abf3-4375-aa6c-001b58127ab4",
   "metadata": {},
   "source": [
    "- #### perplexity score"
   ]
  },
  {
   "cell_type": "code",
   "execution_count": null,
   "id": "890319a5-5a50-41b4-8855-8936380f6cdc",
   "metadata": {},
   "outputs": [],
   "source": [
    "!cd llama.cpp/build/bin && ./llama-perplexity -m ../../../mistral_models/quantized_models/Mistral-7B-Instruct-v0.3_Q4_K_M.gguf -f ../wiki.test.raw"
   ]
  },
  {
   "cell_type": "code",
   "execution_count": null,
   "id": "e95ca5c1-c47f-40f5-be3c-9c3d7553bc1f",
   "metadata": {},
   "outputs": [],
   "source": []
  },
  {
   "cell_type": "markdown",
   "id": "8ec9b0a4-d400-47ce-8452-1249304d7b22",
   "metadata": {},
   "source": [
    "### Inference on quantized model"
   ]
  },
  {
   "cell_type": "code",
   "execution_count": null,
   "id": "e5690155-29f7-4416-96b3-df8adc556169",
   "metadata": {},
   "outputs": [],
   "source": [
    "!./llama.cpp/build/bin/llama-cli -m ./mistral_models/quantized_models/Mistral-7B-Instruct-v0.3_Q4_K_M.gguf -cnv -p \"Why self-attention needed in transformer?\""
   ]
  },
  {
   "cell_type": "markdown",
   "id": "cdc3a5a4-7b12-4634-ae70-ed640c05ef94",
   "metadata": {},
   "source": [
    "If you are looking for the pythonic way of the quantization, please go through following article.\n",
    "- https://netraneupane.medium.com/how-to-run-llms-locally-1dfe39837178"
   ]
  },
  {
   "cell_type": "code",
   "execution_count": null,
   "id": "0634dd5b-085f-416e-b9f3-b6e45cbd5388",
   "metadata": {},
   "outputs": [],
   "source": []
  }
 ],
 "metadata": {
  "kernelspec": {
   "display_name": "Python 3 (ipykernel)",
   "language": "python",
   "name": "python3"
  },
  "language_info": {
   "codemirror_mode": {
    "name": "ipython",
    "version": 3
   },
   "file_extension": ".py",
   "mimetype": "text/x-python",
   "name": "python",
   "nbconvert_exporter": "python",
   "pygments_lexer": "ipython3",
   "version": "3.10.13"
  }
 },
 "nbformat": 4,
 "nbformat_minor": 5
}
