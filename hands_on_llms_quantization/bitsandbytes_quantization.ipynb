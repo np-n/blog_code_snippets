{
 "cells": [
  {
   "cell_type": "code",
   "execution_count": null,
   "id": "e6c2b5d2-72a3-4e5f-95da-c57d87b9306b",
   "metadata": {},
   "outputs": [],
   "source": [
    "!pip install transformers accelerate bitsandbytes>0.37.0\n",
    "!pip install torch"
   ]
  },
  {
   "cell_type": "code",
   "execution_count": null,
   "id": "c11bba27-3446-457a-b64c-e5588eca72e2",
   "metadata": {},
   "outputs": [],
   "source": [
    "import torch\n",
    "# Check if GPU is available and set the device\n",
    "device = torch.device(\"cuda:0\" if torch.cuda.is_available() else \"cpu\")"
   ]
  },
  {
   "cell_type": "code",
   "execution_count": null,
   "id": "11014ac7-7c3d-4654-ac3d-98005d34e2ee",
   "metadata": {},
   "outputs": [],
   "source": [
    "model_file = \"meta-llama/Meta-Llama-3-8B\""
   ]
  },
  {
   "cell_type": "code",
   "execution_count": null,
   "id": "169aaf85-a94c-4a9e-a1c4-8fba2b2d3f00",
   "metadata": {},
   "outputs": [],
   "source": [
    "from transformers import AutoModelForCausalLM, AutoTokenizer, BitsAndBytesConfig\n",
    "\n",
    "bnb_config = BitsAndBytesConfig(load_in_4bit=True)\n",
    "tokenizer = AutoTokenizer.from_pretrained(model_file)\n",
    "model = AutoModelForCausalLM.from_pretrained(model_file, quantization_config=bnb_config, torch_dtype=torch.float32).to(\"cuda\")"
   ]
  },
  {
   "cell_type": "code",
   "execution_count": null,
   "id": "898ae551-1228-4d5b-92d3-773ad35d53d5",
   "metadata": {},
   "outputs": [],
   "source": [
    "free, total = torch.cuda.mem_get_info(device)\n",
    "mem_used_MB = (total - free) / 1024 ** 2\n",
    "print(f\"GPU memory utilization : {mem_used_MB/1024} GB\")"
   ]
  },
  {
   "cell_type": "code",
   "execution_count": null,
   "id": "d4a3ea79-c7b4-4799-8ff8-d4d9ad00c9d7",
   "metadata": {},
   "outputs": [],
   "source": [
    "prompt = \"I am suffering from flu, give me home remedies?\""
   ]
  },
  {
   "cell_type": "code",
   "execution_count": null,
   "id": "dd962610-4058-4a6d-a817-1066f3198621",
   "metadata": {},
   "outputs": [],
   "source": [
    "import time\n",
    "t1 = time.time()\n",
    "# Tokenizing input text for the model.\n",
    "input_ids = tokenizer([prompt], return_tensors=\"pt\").input_ids.to(\"cuda\") # .to(model.device)\n",
    "\n",
    "\n",
    "# Generating output based on the input_ids.\n",
    "# You can adjust the max_length parameter as necessary for your use case.\n",
    "generated_tokens = model.generate(input_ids, max_length=50)\n",
    "\n",
    "# Decoding the generated tokens to produce readable text.\n",
    "generated_text = tokenizer.decode(generated_tokens[0], skip_special_tokens=True)\n",
    "t2 = time.time()\n",
    "print(generated_text)\n",
    "print(f\"Took around {t2-t1} seconds.\")"
   ]
  }
 ],
 "metadata": {
  "kernelspec": {
   "display_name": "Python 3 (ipykernel)",
   "language": "python",
   "name": "python3"
  },
  "language_info": {
   "codemirror_mode": {
    "name": "ipython",
    "version": 3
   },
   "file_extension": ".py",
   "mimetype": "text/x-python",
   "name": "python",
   "nbconvert_exporter": "python",
   "pygments_lexer": "ipython3",
   "version": "3.10.13"
  }
 },
 "nbformat": 4,
 "nbformat_minor": 5
}
