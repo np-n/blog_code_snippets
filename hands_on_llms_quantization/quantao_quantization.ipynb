{
 "cells": [
  {
   "cell_type": "code",
   "execution_count": null,
   "id": "34cf184a-94b4-49a9-9565-03a1a426b266",
   "metadata": {},
   "outputs": [],
   "source": [
    "# install quantao\n",
    "!pip install transformers accelerat optimum-quanto\n",
    "!pip install torch"
   ]
  },
  {
   "cell_type": "code",
   "execution_count": null,
   "id": "133f9753-c1fc-46fd-88b5-f2fc864458d7",
   "metadata": {},
   "outputs": [],
   "source": [
    "import torch\n",
    "# Check if GPU is available and set the device\n",
    "device = torch.device(\"cuda:0\" if torch.cuda.is_available() else \"cpu\")"
   ]
  },
  {
   "cell_type": "code",
   "execution_count": null,
   "id": "f0e052d6-3b03-4918-8df6-1dacd914dd88",
   "metadata": {},
   "outputs": [],
   "source": [
    "from transformers import AutoModelForCausalLM, AutoTokenizer, QuantoConfig\n",
    "\n",
    "model_id = \"meta-llama/Meta-Llama-3-8B\"\n",
    "tokenizer = AutoTokenizer.from_pretrained(model_id)\n",
    "\n",
    "quantization_config = QuantoConfig(weights=\"int4\") # weight quantization\n",
    "# quantization_config = QuantoConfig(activations=\"int4\") # activation quantization\n",
    "\n",
    "quantized_model = AutoModelForCausalLM.from_pretrained(\n",
    "    model_id,\n",
    "    quantization_config= quantization_config\n",
    ")"
   ]
  },
  {
   "cell_type": "code",
   "execution_count": null,
   "id": "b6032ad9-ace6-496e-81f4-54e92a6c3491",
   "metadata": {},
   "outputs": [],
   "source": [
    "free, total = torch.cuda.mem_get_info(device)\n",
    "mem_used_MB = (total - free) / 1024 ** 2\n",
    "print(f\"GPU memory utilization : {mem_used_MB/1024} GB\")"
   ]
  },
  {
   "cell_type": "code",
   "execution_count": null,
   "id": "fd68e13b-0964-47e6-a63d-99adb7ea23d7",
   "metadata": {},
   "outputs": [],
   "source": [
    "import time\n",
    "t1 = time.time()\n",
    "\n",
    "prompt = \"What is multi-head attention in context of transformer?\"\n",
    "\n",
    "# Tokenizing input text for the model.\n",
    "input_ids = tokenizer([prompt], return_tensors=\"pt\").input_ids.to(\"cuda\") # .to(model.device)\n",
    "\n",
    "# Generating output based on the input_ids.\n",
    "# You can adjust the max_length parameter as necessary for your use case.\n",
    "generated_tokens = quantized_model.generate(input_ids, max_length=50)\n",
    "\n",
    "# Decoding the generated tokens to produce readable text.\n",
    "generated_text = tokenizer.decode(generated_tokens[0], skip_special_tokens=True)\n",
    "t2 = time.time()\n",
    "print(generated_text)\n",
    "print(f\"Took around {t2-t1} seconds.\")"
   ]
  }
 ],
 "metadata": {
  "kernelspec": {
   "display_name": "Python 3 (ipykernel)",
   "language": "python",
   "name": "python3"
  },
  "language_info": {
   "codemirror_mode": {
    "name": "ipython",
    "version": 3
   },
   "file_extension": ".py",
   "mimetype": "text/x-python",
   "name": "python",
   "nbconvert_exporter": "python",
   "pygments_lexer": "ipython3",
   "version": "3.10.13"
  }
 },
 "nbformat": 4,
 "nbformat_minor": 5
}
